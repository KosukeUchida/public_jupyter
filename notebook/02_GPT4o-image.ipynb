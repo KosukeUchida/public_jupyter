{
 "cells": [
  {
   "cell_type": "markdown",
   "metadata": {},
   "source": [
    "# GPT4oを用いた画像処理について試す"
   ]
  },
  {
   "cell_type": "markdown",
   "metadata": {},
   "source": [
    "## 概要\n",
    "\n",
    "GPT4oを用いて画像処理を行う方法を試し、どのような活用方法が考えられるかを考察する。"
   ]
  },
  {
   "cell_type": "markdown",
   "metadata": {},
   "source": [
    "## 事前準備\n",
    "\n",
    "1. 以下公式よりAzureOpenAIリソースを作成し、GPT4oのモデルをデプロイし使用可能な状態とする。\n",
    "    - [Azure OpenAIリソースの作成](https://learn.microsoft.com/ja-jp/azure/ai-services/openai/how-to/create-resource?pivots=web-portal)\n",
    "2. .envファイルを作成する。\n",
    "\n",
    "    ```\n",
    "    cp .devcontainer/.env.example .devcontainer/.env\n",
    "    ```\n",
    "\n",
    "3. .envファイルの下記項目に適切な値を記述する。\n",
    "\n",
    "    ```\n",
    "    OPENAI_API_KEY=xxxxxxxx\n",
    "    OPENAI_API_BASE=https://{resource name}.openai.azure.com/\n",
    "    OPENAI_API_VERSION=2024-02-01\n",
    "    OPENAI_DEPLOYMENT_NAME_GPT4o={deployment name}\n",
    "    ```\n",
    "\n",
    "4. Devcontainerを起動する。"
   ]
  },
  {
   "cell_type": "markdown",
   "metadata": {},
   "source": [
    "## Install"
   ]
  },
  {
   "cell_type": "code",
   "execution_count": 1,
   "metadata": {},
   "outputs": [
    {
     "name": "stdout",
     "output_type": "stream",
     "text": [
      "Collecting openai\n",
      "  Downloading openai-1.40.6-py3-none-any.whl.metadata (22 kB)\n",
      "Collecting anyio<5,>=3.5.0 (from openai)\n",
      "  Downloading anyio-4.4.0-py3-none-any.whl.metadata (4.6 kB)\n",
      "Collecting distro<2,>=1.7.0 (from openai)\n",
      "  Downloading distro-1.9.0-py3-none-any.whl.metadata (6.8 kB)\n",
      "Collecting httpx<1,>=0.23.0 (from openai)\n",
      "  Downloading httpx-0.27.0-py3-none-any.whl.metadata (7.2 kB)\n",
      "Collecting jiter<1,>=0.4.0 (from openai)\n",
      "  Downloading jiter-0.5.0-cp312-cp312-manylinux_2_17_x86_64.manylinux2014_x86_64.whl.metadata (3.6 kB)\n",
      "Requirement already satisfied: pydantic<3,>=1.9.0 in /usr/local/lib/python3.12/site-packages (from openai) (2.8.2)\n",
      "Collecting sniffio (from openai)\n",
      "  Downloading sniffio-1.3.1-py3-none-any.whl.metadata (3.9 kB)\n",
      "Collecting tqdm>4 (from openai)\n",
      "  Downloading tqdm-4.66.5-py3-none-any.whl.metadata (57 kB)\n",
      "Requirement already satisfied: typing-extensions<5,>=4.11 in /usr/local/lib/python3.12/site-packages (from openai) (4.12.2)\n",
      "Requirement already satisfied: idna>=2.8 in /usr/local/lib/python3.12/site-packages (from anyio<5,>=3.5.0->openai) (3.7)\n",
      "Requirement already satisfied: certifi in /usr/local/lib/python3.12/site-packages (from httpx<1,>=0.23.0->openai) (2024.7.4)\n",
      "Collecting httpcore==1.* (from httpx<1,>=0.23.0->openai)\n",
      "  Downloading httpcore-1.0.5-py3-none-any.whl.metadata (20 kB)\n",
      "Collecting h11<0.15,>=0.13 (from httpcore==1.*->httpx<1,>=0.23.0->openai)\n",
      "  Downloading h11-0.14.0-py3-none-any.whl.metadata (8.2 kB)\n",
      "Requirement already satisfied: annotated-types>=0.4.0 in /usr/local/lib/python3.12/site-packages (from pydantic<3,>=1.9.0->openai) (0.7.0)\n",
      "Requirement already satisfied: pydantic-core==2.20.1 in /usr/local/lib/python3.12/site-packages (from pydantic<3,>=1.9.0->openai) (2.20.1)\n",
      "Downloading openai-1.40.6-py3-none-any.whl (361 kB)\n",
      "Downloading anyio-4.4.0-py3-none-any.whl (86 kB)\n",
      "Downloading distro-1.9.0-py3-none-any.whl (20 kB)\n",
      "Downloading httpx-0.27.0-py3-none-any.whl (75 kB)\n",
      "Downloading httpcore-1.0.5-py3-none-any.whl (77 kB)\n",
      "Downloading jiter-0.5.0-cp312-cp312-manylinux_2_17_x86_64.manylinux2014_x86_64.whl (319 kB)\n",
      "Downloading sniffio-1.3.1-py3-none-any.whl (10 kB)\n",
      "Downloading tqdm-4.66.5-py3-none-any.whl (78 kB)\n",
      "Downloading h11-0.14.0-py3-none-any.whl (58 kB)\n",
      "Installing collected packages: tqdm, sniffio, jiter, h11, distro, httpcore, anyio, httpx, openai\n",
      "Successfully installed anyio-4.4.0 distro-1.9.0 h11-0.14.0 httpcore-1.0.5 httpx-0.27.0 jiter-0.5.0 openai-1.40.6 sniffio-1.3.1 tqdm-4.66.5\n",
      "\u001b[33mWARNING: Running pip as the 'root' user can result in broken permissions and conflicting behaviour with the system package manager, possibly rendering your system unusable.It is recommended to use a virtual environment instead: https://pip.pypa.io/warnings/venv. Use the --root-user-action option if you know what you are doing and want to suppress this warning.\u001b[0m\u001b[33m\n",
      "\u001b[0mNote: you may need to restart the kernel to use updated packages.\n"
     ]
    }
   ],
   "source": [
    "%pip install openai"
   ]
  },
  {
   "cell_type": "markdown",
   "metadata": {},
   "source": [
    "## Environment"
   ]
  },
  {
   "cell_type": "code",
   "execution_count": 2,
   "metadata": {},
   "outputs": [],
   "source": [
    "import os\n",
    "\n",
    "AZURE_OPENAI_API_KEY = os.environ.get('OPENAI_API_KEY')\n",
    "AZURE_OPENAI_ENDPOINT = os.environ.get('OPENAI_API_BASE')\n",
    "DEPLOYMENT_NAME = os.environ.get('OPENAI_DEPLOYMENT_NAME_GPT4o')\n",
    "API_VERSION = os.environ.get('OPENAI_API_VERSION')"
   ]
  },
  {
   "cell_type": "markdown",
   "metadata": {},
   "source": [
    "## Usage\n",
    "\n",
    "参考：[公式サンプルコード](https://learn.microsoft.com/ja-jp/azure/ai-services/openai/gpt-v-quickstart?tabs=image%2Ccommand-line&pivots=programming-language-python#create-a-new-python-application)"
   ]
  },
  {
   "cell_type": "code",
   "execution_count": 27,
   "metadata": {},
   "outputs": [],
   "source": [
    "from openai import AzureOpenAI\n",
    "\n",
    "def gptImageAnalysis(userMessage :str, imageUrl :str):\n",
    "    client = AzureOpenAI(\n",
    "        api_key=AZURE_OPENAI_API_KEY,  \n",
    "        api_version=API_VERSION,\n",
    "        base_url=f\"{AZURE_OPENAI_ENDPOINT}/openai/deployments/{DEPLOYMENT_NAME}\"\n",
    "    )\n",
    "\n",
    "    response = client.chat.completions.create(\n",
    "        model=DEPLOYMENT_NAME,\n",
    "        messages=[\n",
    "            { \"role\": \"system\", \"content\": \"You are a helpful assistant. Describe this picture. Please output in Japanese.\" },\n",
    "            { \"role\": \"user\", \"content\": [  \n",
    "                { \n",
    "                    \"type\": \"text\", \n",
    "                    \"text\": userMessage \n",
    "                },\n",
    "                { \n",
    "                    \"type\": \"image_url\",\n",
    "                    \"image_url\": {\n",
    "                        \"url\": imageUrl\n",
    "                    }\n",
    "                }\n",
    "            ] } \n",
    "        ],\n",
    "        # max_tokens=2000 　GPT4oはデフォルト4096の為指定不要\n",
    "    )\n",
    "\n",
    "    return response\n",
    "\n",
    "def getOutputMessage(response):\n",
    "    return response.choices[0].message.content"
   ]
  },
  {
   "cell_type": "markdown",
   "metadata": {},
   "source": [
    "試しに上記の公式サンプルコードにあった画像を使用  \n",
    "![](https://learn.microsoft.com/ja-jp/azure/ai-services/openai/media/quickstarts/endpoint.png#lightbox)"
   ]
  },
  {
   "cell_type": "code",
   "execution_count": 29,
   "metadata": {},
   "outputs": [
    {
     "name": "stdout",
     "output_type": "stream",
     "text": [
      "この画像は、Microsoft Azure ポータルの「Keys and Endpoint」セクションを示しています。具体的には、「docs-test-001」という名前のCognitive Serviceリソースのキーとエンドポイントの情報が表示されています。画面には次の情報が含まれています。\n",
      "\n",
      "- 左側のナビゲーションメニューには、「Keys and Endpoint」が選択されている。\n",
      "- 右側の主要なセクションには、「KEY 1」と「KEY 2」としてそれぞれのキーが隠されています。\n",
      "- 「Location/Region」として「eastus」が表示されています。\n",
      "- 「Endpoint」としてURL（「https://docs-test-001.openai.azure.com/」）が表示されています。\n",
      "- また、「Show Keys」ボタンや、「Regenerate Key1」「Regenerate Key2」のボタンも表示されています。\n",
      "\n",
      "その他のリソース管理オプションとしては、「Overview」、「Activity log」、「Access control (IAM)」、「Tags」、「Deployments」、「Pricing tier」、「Networking」、「Identity」、「Cost analysis」、「Properties」、「Locks」が左側のメニューにアイコンと共にリストされています。\n"
     ]
    }
   ],
   "source": [
    "message = \"\"\n",
    "url = 'https://learn.microsoft.com/ja-jp/azure/ai-services/openai/media/quickstarts/endpoint.png#lightbox'\n",
    "response = gptImageAnalysis(message, url)\n",
    "\n",
    "print(getOutputMessage(response))"
   ]
  },
  {
   "cell_type": "markdown",
   "metadata": {},
   "source": [
    "#### URLだけではなく、画像ファイルをBase64に変換し処理することも可能"
   ]
  },
  {
   "cell_type": "code",
   "execution_count": 25,
   "metadata": {},
   "outputs": [],
   "source": [
    "import urllib.request\n",
    "import base64\n",
    "\n",
    "# ImageFileをBase64エンコード\n",
    "def convertImageFileToBase64data(file_path):\n",
    "    # base64 エンコード\n",
    "    with open(file_path, 'rb') as image:\n",
    "        base64_data = base64.b64encode(image.read()).decode('utf-8')\n",
    "\n",
    "    return f\"data:image/jpg;base64,{base64_data}\"\n",
    "\n",
    "# ImageURLをBase64エンコード\n",
    "def convertImageURLToBase64data(url):\n",
    "    # 画像ファイルダウンロード\n",
    "    dst_path = '../data/temp/temp.png'\n",
    "    urllib.request.urlretrieve(url, dst_path)\n",
    "\n",
    "    return convertImageFileToBase64data(dst_path)\n"
   ]
  },
  {
   "cell_type": "code",
   "execution_count": 45,
   "metadata": {},
   "outputs": [
    {
     "name": "stdout",
     "output_type": "stream",
     "text": [
      "この画像は、Microsoft Azureのポータルで表示されているCognitive Serviceの「Keys and Endpoint」ページのスクリーンショットです。このページではAPIのキーやエンドポイントに関する情報が提供されています。\n",
      "\n",
      "1. **APIキー（KEY 1, KEY 2）**:\n",
      "   - それぞれのキーは、Azure Cognitive Service APIにアクセスするために必要な認証情報です。\n",
      "   - これらのキーを使用することで、APIリクエストを行う際に認証を行います。\n",
      "   - キーは定期的に再生成することが推奨されています。\n",
      "\n",
      "2. **エンドポイント（Endpoint）**:\n",
      "   - APIへのリクエストを送信するためのURLです。\n",
      "   - この例では、エンドポイントURLは「https://docs-test-001.openai.azure.com/」です。\n",
      "   - リージョンが「eastus」と設定されています。この情報は、Azureが地理的に最適なデータセンターを選ぶために使用します。\n",
      "\n",
      "### データの流れ\n",
      "\n",
      "1. **リクエストの準備**:\n",
      "   - クライアントアプリケーションは、利用するCognitive Service APIのエンドポイントURLと認証キー（例：KEY 1またはKEY 2）を設定します。\n",
      "\n",
      "2. **APIリクエストの送信**:\n",
      "   - クライアントアプリケーションは、エンドポイントURLに向けてHTTPリクエストを送信します。このリクエストには、必要なパラメータやデータが含まれます。\n",
      "   - リクエストヘッダーの一部として、認証キーが含まれます。\n",
      "\n",
      "3. **認証と処理**:\n",
      "   - サービスが認証キーを確認し、リクエストが正当なものであるかを確認します。\n",
      "   - 認証後、サービスはリクエストの内容に従って処理を行います。\n",
      "\n",
      "4. **レスポンスの受信**:\n",
      "   - 処理が完了すると、Cognitive Service APIはクライアントアプリケーションに対して応答を送信します。\n",
      "   - 応答には、リクエストされたデータや情報、または処理結果が含まれます。\n",
      "\n",
      "このプロセスを通じて、クライアントとサーバー間でデータが安全にやり取りされます。\n"
     ]
    }
   ],
   "source": [
    "url = 'https://learn.microsoft.com/ja-jp/azure/ai-services/openai/media/quickstarts/endpoint.png#lightbox'\n",
    "\n",
    "base64_image_data = convertImageURLToBase64data(url)\n",
    "response = gptImageAnalysis(message, base64_image_data)\n",
    "\n",
    "print(getOutputMessage(response))"
   ]
  },
  {
   "cell_type": "markdown",
   "metadata": {},
   "source": [
    "## Example\n",
    "\n",
    "### 01.グラフ情報の読み取り"
   ]
  },
  {
   "cell_type": "markdown",
   "metadata": {},
   "source": [
    "![](../data/picture/グラフ.jpg)\n",
    "\n",
    "出典：「生成AIの世界需用額見通し」より、電子情報技術産業協会（JEITA）、2023年12月21日  \n",
    "https://www.jeita.or.jp/cgi-bin/topics/detail.cgi?n=4724"
   ]
  },
  {
   "cell_type": "code",
   "execution_count": 26,
   "metadata": {},
   "outputs": [
    {
     "name": "stdout",
     "output_type": "stream",
     "text": [
      "この画像には、生成AI市場の需要額（日本）についてのグラフが示されています。以下の説明が含まれています：\n",
      "\n",
      "1. **タイトル**：生成AI市場の需要額（日本）\n",
      "2. **年ごとの需要額**：\n",
      "   - 2023年：1,188億円\n",
      "   - 2025年：6,879億円\n",
      "   - 2030年：17,774億円\n",
      "3. **増加率**：\n",
      "   - 年平均：47.2%増\n",
      "   - 年平均の詳細：\n",
      "     - 生成AI基盤モデル：46.0%増（黄色）\n",
      "     - 生成AI関連アプリケーション：46.6%増（青色）\n",
      "     - 生成AI関連ソリューションサービス：52.2%増（赤色）\n",
      "4. **出典**：「生成AIの世界需用展望」より、電子情報技術産業協会（JEITA）、2023年12月21日\n",
      "\n",
      "グラフは棒グラフ形式で、2023年から2030年にかけての生成AI市場の需用額の増加を視覚的に表しています。また、観衆がスライドを見ている様子が写っています。\n"
     ]
    }
   ],
   "source": [
    "file_path = '../data/picture/グラフ.jpg'\n",
    "\n",
    "base64_image_data = convertImageFileToBase64data(file_path)\n",
    "response = gptImageAnalysis(message, base64_image_data)\n",
    "\n",
    "print(getOutputMessage(response))"
   ]
  },
  {
   "cell_type": "code",
   "execution_count": 30,
   "metadata": {},
   "outputs": [
    {
     "name": "stdout",
     "output_type": "stream",
     "text": [
      "2023年から2030年で生成AI市場の需要額は増えました。2023年の需要額は1,188億円で、2030年の需要額は17,774億円です。その差を計算すると、17,774億円 - 1,188億円 =16,586億円増加しました。\n"
     ]
    }
   ],
   "source": [
    "file_path = '../data/picture/グラフ.jpg'\n",
    "message = '年ごとの需要額は2023年から2023年でいくら増えましたか？'\n",
    "\n",
    "base64_image_data = convertImageFileToBase64data(file_path)\n",
    "response = gptImageAnalysis(message, base64_image_data)\n",
    "\n",
    "print(getOutputMessage(response))"
   ]
  },
  {
   "cell_type": "markdown",
   "metadata": {},
   "source": [
    "### 02.領収書\n",
    "\n",
    "![](../data/picture/領収書.jpg)"
   ]
  },
  {
   "cell_type": "code",
   "execution_count": 32,
   "metadata": {},
   "outputs": [
    {
     "name": "stdout",
     "output_type": "stream",
     "text": [
      "日付は2024年4月13日、金額は28,840円です。\n"
     ]
    }
   ],
   "source": [
    "file_path = '../data/picture/領収書.jpg'\n",
    "message = '日付と金額を教えて下さい'\n",
    "\n",
    "base64_image_data = convertImageFileToBase64data(file_path)\n",
    "response = gptImageAnalysis(message, base64_image_data)\n",
    "\n",
    "print(getOutputMessage(response))"
   ]
  },
  {
   "cell_type": "markdown",
   "metadata": {},
   "source": [
    "### 03. Azure アーキテクチャの読み取り\n",
    "\n",
    "![](../data/picture/azure_aks_architectures.jpeg)\n",
    "\n",
    "出典: Azure Kubernetes Service 上のマイクロサービス アーキテクチャ  \n",
    "https://learn.microsoft.com/ja-jp/azure/architecture/reference-architectures/containers/aks-microservices/aks-microservices"
   ]
  },
  {
   "cell_type": "code",
   "execution_count": 51,
   "metadata": {},
   "outputs": [
    {
     "name": "stdout",
     "output_type": "stream",
     "text": [
      "このアーキテクチャ図は、Microsoft Azureを使用したアプリケーションのデプロイメントおよび運用の流れを示しています。以下に各コンポーネントとデータフローの詳細を説明します。\n",
      "\n",
      "### コンポーネントの説明：\n",
      "\n",
      "1. **クライアントアプリ (Client Apps)**：\n",
      "   クライアントはアプリケーションにアクセスします。\n",
      "\n",
      "2. **Azure Load Balancer**：\n",
      "   クライアントからのトラフィックを受け取り、Kubernetesクラスターのフロントエンドへ流します。\n",
      "\n",
      "3. **Azure Kubernetes Service (AKS)**：\n",
      "   Kubernetesクラスターをホスティングし、アプリケーションのスケーリングと管理を行います。\n",
      "\n",
      "4. **Front End**（Namespace）：\n",
      "   - **Ingress**：トラフィックを受け取り、バックエンドサービスにルーティングします。\n",
      "\n",
      "5. **Back-End Services** （Namespace）：\n",
      "   - ここにはアプリケーションの主要なビジネスロジックが含まれ、Podが自動的にスケールされます。\n",
      "   - **SQL Database**：データの保管と管理。\n",
      "   - **Azure Cosmos DB**：グローバルに分散されたデータベース。\n",
      "\n",
      "6. **Utility Services** （Namespace）：\n",
      "   - **Elasticsearch**：ログやデータのインデックスを検索可能にする。\n",
      "   - **Prometheus**：モニタリングとアラートのためのデータ収集。\n",
      "\n",
      "7. **CI/CD**：\n",
      "   - **Azure Pipelines**：継続的インテグレーションおよびデリバリー。\n",
      "   - **Helm Upgrade**：Kubernetesアプリケーションの管理。\n",
      "\n",
      "8. **Azure Container Registry**：\n",
      "   コンテナイメージのストレージ。\n",
      "\n",
      "9. **Dev/Ops**：\n",
      "   開発者や運用担当者が操作を行う。\n",
      "\n",
      "10. **Azure Active Directory**：\n",
      "    役割に基づくアクセス管理を提供。\n",
      "\n",
      "11. **Azure Monitor**：\n",
      "    システムのモニタリングとログ分析を実行。\n",
      "\n",
      "12. **Azure Key Vault**：\n",
      "    機密情報の保管と管理。\n",
      "\n",
      "### データフローの説明：\n",
      "\n",
      "1. **クライアント → Azure Load Balancer**：\n",
      "   クライアントアプリからリクエストが送信され、Azure Load Balancerがトラフィックを受け取ります。\n",
      "\n",
      "2. **Load Balancer → AKS / Front End**：\n",
      "   トラフィックがIngressコントローラーを介してKubernetesクラスター内のフロントエンドサービスにルーティングされます。\n",
      "\n",
      "3. **Front End → Back-End Services**：\n",
      "   Ingressがリクエストを受け取り、適切なバックエンドサービスにルーティングします。\n",
      "\n",
      "4. **Back-End Services**：\n",
      "   - バックエンドサービスがビジネスロジックを実行し、必要に応じてSQL DatabaseまたはAzure Cosmos DBと連携します。\n",
      "\n",
      "5. **Utility Services**：\n",
      "   バックエンドからのデータをElasticsearchやPrometheusが収集、解析します。\n",
      "\n",
      "6. **CI/CD → Azure Container Registry**：\n",
      "   Azure Pipelinesが継続的デリバリーのためにコンテナイメージをビルドし、Azure Container Registryにプッシュします。\n",
      "\n",
      "7. **役割に基づくアクセス管理**：\n",
      "   Azure Active Directoryが役割に基づいてアクセス制御を実施します。\n",
      "\n",
      "8. **モニタリングとセキュリティ**：\n",
      "   - Azure Monitorがシステムを監視。\n",
      "   - Azure Key Vaultがセキュアな情報管理を提供。\n",
      "\n",
      "このようにして、アプリケーションのトラフィック管理、データ処理、継続的デプロイ、セキュリティ管理などがAzureの各サービスを通じて効果的に統合・運用されます。\n"
     ]
    }
   ],
   "source": [
    "file_path = '../data/picture/azure_aks_architectures.jpeg'\n",
    "message = 'このアーキテクチャを説明して、それぞれのデータの流れで説明して。'\n",
    "\n",
    "base64_image_data = convertImageFileToBase64data(file_path)\n",
    "response = gptImageAnalysis(message, base64_image_data)\n",
    "\n",
    "print(getOutputMessage(response))"
   ]
  },
  {
   "cell_type": "markdown",
   "metadata": {},
   "source": [
    "### 04. バーコード読み取り\n",
    "\n",
    "![](../data/picture/barcode_.png)\n",
    "\n",
    "元：漫画ワンピース108巻のバーコード"
   ]
  },
  {
   "cell_type": "code",
   "execution_count": 55,
   "metadata": {},
   "outputs": [
    {
     "name": "stdout",
     "output_type": "stream",
     "text": [
      "申し訳ございませんが、画像のバーコードのデータを読み取ることはできません。詳細なバーコードデータを取得する必要がある場合は、バーコードリーダーまたは専用のアプリケーションを使用してみてください。\n"
     ]
    }
   ],
   "source": [
    "file_path = '../data/picture/barcode_.png'\n",
    "message = '画像のバーコードのデータは何ですか？'\n",
    "\n",
    "base64_image_data = convertImageFileToBase64data(file_path)\n",
    "response = gptImageAnalysis(message, base64_image_data)\n",
    "\n",
    "print(getOutputMessage(response))"
   ]
  },
  {
   "cell_type": "markdown",
   "metadata": {},
   "source": [
    "### 98. カロリー計算\n",
    "\n",
    "![](../data/picture/ピザ.jpg)"
   ]
  },
  {
   "cell_type": "code",
   "execution_count": 34,
   "metadata": {},
   "outputs": [
    {
     "name": "stdout",
     "output_type": "stream",
     "text": [
      "この画像には、ピザが写っています。ピザはトマトソース、モッツァレラチーズ、ソーセージ、ベーコン、およびバジルがトッピングされています。生地の縁は程よく焼き色がつき、カリッとしていそうです。\n",
      "\n",
      "推定カロリーは、ピザの種類やトッピングの量によりますが、一般的なマルゲリータピザサイズのピザとして推定すると、約600～800キロカロリー程度です。トッピングの量が多いため、800キロカロリーを超える可能性もあります。\n"
     ]
    }
   ],
   "source": [
    "file_path = '../data/picture/ピザ.jpg'\n",
    "message = '画像の説明と推定カロリーを教えて下さい'\n",
    "\n",
    "base64_image_data = convertImageFileToBase64data(file_path)\n",
    "response = gptImageAnalysis(message, base64_image_data)\n",
    "\n",
    "print(getOutputMessage(response))"
   ]
  },
  {
   "cell_type": "markdown",
   "metadata": {},
   "source": [
    "![](../data/picture/スープカレー.jpg)"
   ]
  },
  {
   "cell_type": "code",
   "execution_count": 35,
   "metadata": {},
   "outputs": [
    {
     "name": "stdout",
     "output_type": "stream",
     "text": [
      "この画像は、スープカレーの一品を示しています。スープカレーは、具材が豊富で、スパイシーなスープと一緒に提供されるカレー料理です。画像には以下の具材が含まれています：\n",
      "- 人参\n",
      "- ピーマン\n",
      "- オクラ\n",
      "- ブロッコリー\n",
      "- アスパラガス\n",
      "- れんこん\n",
      "- かぼちゃ\n",
      "- ナス\n",
      "- 半熟卵\n",
      "- カレーライス\n",
      "\n",
      "推定カロリーは以下の通りです：\n",
      "- 野菜や一部の具材：約150-200 kcal\n",
      "- スープカレー：約300-400 kcal\n",
      "- ライス：約200-250 kcal\n",
      "\n",
      "合計すると、1食分の推定カロリーは約650-850 kcal程度になると考えられます。しかし、具材や調理方法によってカロリーは変動するため、あくまで推定値です。\n"
     ]
    }
   ],
   "source": [
    "file_path = '../data/picture/スープカレー.jpg'\n",
    "message = '画像の説明と推定カロリーを教えて下さい'\n",
    "\n",
    "base64_image_data = convertImageFileToBase64data(file_path)\n",
    "response = gptImageAnalysis(message, base64_image_data)\n",
    "\n",
    "print(getOutputMessage(response))"
   ]
  },
  {
   "cell_type": "markdown",
   "metadata": {},
   "source": [
    "### 99．その他\n",
    "\n",
    "![](../data/picture/ドリンク_1.jpg)"
   ]
  },
  {
   "cell_type": "code",
   "execution_count": 42,
   "metadata": {},
   "outputs": [
    {
     "name": "stdout",
     "output_type": "stream",
     "text": [
      "```json\n",
      "{\n",
      "  \"description\": \"SAPPOROのロゴが入った大きなグラスに液体が入っている\",\n",
      "  \"remainingamount\": \"80%\"\n",
      "}\n",
      "```\n"
     ]
    }
   ],
   "source": [
    "file_path = '../data/picture/ドリンク_1.jpg'\n",
    "message = \"\"\"画像に最も大きく映っている液体が入っているグラスの液体の容量の割合を、以下のJSON形式でおしえてください。\n",
    "{'description':'xxxxxxxxx', 'remainingamount':'xx%'}\"\"\"\n",
    "\n",
    "base64_image_data = convertImageFileToBase64data(file_path)\n",
    "response = gptImageAnalysis(message, base64_image_data)\n",
    "\n",
    "print(getOutputMessage(response))"
   ]
  },
  {
   "cell_type": "markdown",
   "metadata": {},
   "source": []
  }
 ],
 "metadata": {
  "kernelspec": {
   "display_name": "Python 3",
   "language": "python",
   "name": "python3"
  },
  "language_info": {
   "codemirror_mode": {
    "name": "ipython",
    "version": 3
   },
   "file_extension": ".py",
   "mimetype": "text/x-python",
   "name": "python",
   "nbconvert_exporter": "python",
   "pygments_lexer": "ipython3",
   "version": "3.12.4"
  }
 },
 "nbformat": 4,
 "nbformat_minor": 2
}
