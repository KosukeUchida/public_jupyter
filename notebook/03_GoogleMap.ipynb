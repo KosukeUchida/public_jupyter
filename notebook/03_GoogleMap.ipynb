{
 "cells": [
  {
   "cell_type": "markdown",
   "metadata": {},
   "source": [
    "# GoogleMap\n",
    "\n",
    "## 概要\n",
    "GoogleMapAPIを試す\n",
    "\n",
    "## 事前準備\n",
    "GoogleMapAPIのキーを取得する必要がある\n",
    "\n",
    "参考：\n",
    "https://neuralnetconsulting.info/google-maps-api%E3%82%92python%E3%81%A7%E5%88%A9%E7%94%A8%E3%81%99%E3%82%8B%E6%89%8B%E9%A0%86%E3%81%AB%E3%81%A4%E3%81%84%E3%81%A6/\n"
   ]
  },
  {
   "cell_type": "markdown",
   "metadata": {},
   "source": [
    "## install"
   ]
  },
  {
   "cell_type": "code",
   "execution_count": 2,
   "metadata": {},
   "outputs": [
    {
     "name": "stdout",
     "output_type": "stream",
     "text": [
      "Collecting googlemaps\n",
      "  Downloading googlemaps-4.10.0.tar.gz (33 kB)\n",
      "  Preparing metadata (setup.py) ... \u001b[?25ldone\n",
      "\u001b[?25hRequirement already satisfied: requests<3.0,>=2.20.0 in /usr/local/lib/python3.12/site-packages (from googlemaps) (2.32.3)\n",
      "Requirement already satisfied: charset-normalizer<4,>=2 in /usr/local/lib/python3.12/site-packages (from requests<3.0,>=2.20.0->googlemaps) (3.3.2)\n",
      "Requirement already satisfied: idna<4,>=2.5 in /usr/local/lib/python3.12/site-packages (from requests<3.0,>=2.20.0->googlemaps) (3.7)\n",
      "Requirement already satisfied: urllib3<3,>=1.21.1 in /usr/local/lib/python3.12/site-packages (from requests<3.0,>=2.20.0->googlemaps) (2.2.2)\n",
      "Requirement already satisfied: certifi>=2017.4.17 in /usr/local/lib/python3.12/site-packages (from requests<3.0,>=2.20.0->googlemaps) (2024.7.4)\n",
      "Building wheels for collected packages: googlemaps\n",
      "  Building wheel for googlemaps (setup.py) ... \u001b[?25ldone\n",
      "\u001b[?25h  Created wheel for googlemaps: filename=googlemaps-4.10.0-py3-none-any.whl size=40710 sha256=257e8ed5eeb950d3cdea42a9580bd3265b94b07982c6fd03ef958d9f06cbb54c\n",
      "  Stored in directory: /root/.cache/pip/wheels/4c/6a/a7/bbc6f5c200032025ee655deb5e163ce8594fa05e67d973aad6\n",
      "Successfully built googlemaps\n",
      "Installing collected packages: googlemaps\n",
      "Successfully installed googlemaps-4.10.0\n",
      "\u001b[33mWARNING: Running pip as the 'root' user can result in broken permissions and conflicting behaviour with the system package manager, possibly rendering your system unusable.It is recommended to use a virtual environment instead: https://pip.pypa.io/warnings/venv. Use the --root-user-action option if you know what you are doing and want to suppress this warning.\u001b[0m\u001b[33m\n",
      "\u001b[0m\n",
      "\u001b[1m[\u001b[0m\u001b[34;49mnotice\u001b[0m\u001b[1;39;49m]\u001b[0m\u001b[39;49m A new release of pip is available: \u001b[0m\u001b[31;49m24.1.2\u001b[0m\u001b[39;49m -> \u001b[0m\u001b[32;49m24.2\u001b[0m\n",
      "\u001b[1m[\u001b[0m\u001b[34;49mnotice\u001b[0m\u001b[1;39;49m]\u001b[0m\u001b[39;49m To update, run: \u001b[0m\u001b[32;49mpip install --upgrade pip\u001b[0m\n",
      "Note: you may need to restart the kernel to use updated packages.\n"
     ]
    }
   ],
   "source": [
    "%pip install -U googlemaps"
   ]
  },
  {
   "cell_type": "markdown",
   "metadata": {},
   "source": [
    "## Environment"
   ]
  },
  {
   "cell_type": "code",
   "execution_count": 3,
   "metadata": {},
   "outputs": [],
   "source": [
    "import os\n",
    "\n",
    "GOOGLE_MAP_API_KEY = os.environ.get('GOOGLE_MAP_API_KEY')"
   ]
  },
  {
   "cell_type": "markdown",
   "metadata": {},
   "source": [
    "## 特定の地点と地点の距離と時間を取得する\n",
    "\n",
    "### requestsを使ってAPIを叩く"
   ]
  },
  {
   "cell_type": "code",
   "execution_count": 4,
   "metadata": {},
   "outputs": [
    {
     "name": "stdout",
     "output_type": "stream",
     "text": [
      "距離: 6.6 km\n",
      "所要時間: 18 mins\n"
     ]
    }
   ],
   "source": [
    "import requests\n",
    "\n",
    "API_KEY = GOOGLE_MAP_API_KEY\n",
    "origin = \"東京駅\"\n",
    "destination = \"新宿駅\"\n",
    "url = f\"https://maps.googleapis.com/maps/api/directions/json?origin={origin}&destination={destination}&key={API_KEY}\"\n",
    "\n",
    "res = requests.get(url)\n",
    "result = res.json()\n",
    "if result['status'] == 'OK':\n",
    "    routes = result[\"routes\"][0]\n",
    "    legs = routes[\"legs\"][0]\n",
    "    distance = legs[\"distance\"][\"text\"]\n",
    "    duration = legs[\"duration\"][\"text\"]\n",
    "    print(f\"距離: {distance}\")\n",
    "    print(f\"所要時間: {duration}\")\n",
    "else:\n",
    "    print(f\"ルートが見つかりませんでした。\")"
   ]
  },
  {
   "cell_type": "markdown",
   "metadata": {},
   "source": [
    "## 名称から緯度経度を取得する"
   ]
  },
  {
   "cell_type": "code",
   "execution_count": 6,
   "metadata": {},
   "outputs": [
    {
     "name": "stdout",
     "output_type": "stream",
     "text": [
      "東京タワー 35.6585805 139.7454329\n"
     ]
    }
   ],
   "source": [
    "import googlemaps\n",
    "\n",
    "gmaps = googlemaps.Client(key=GOOGLE_MAP_API_KEY)\n",
    "place = '東京タワー'\n",
    "\n",
    "result = gmaps.geocode(place)\n",
    "location = result[0]['geometry']['location']\n",
    "print(place, location['lat'], location['lng'])"
   ]
  },
  {
   "cell_type": "markdown",
   "metadata": {},
   "source": [
    "## 地図上にマーカーを表示する"
   ]
  },
  {
   "cell_type": "code",
   "execution_count": 9,
   "metadata": {},
   "outputs": [],
   "source": [
    "import requests\n",
    "\n",
    "API_KEY = GOOGLE_MAP_API_KEY\n",
    "ADDRESS = \"東京スカイツリー\"\n",
    "url = f\"https://maps.googleapis.com/maps/api/geocode/json?address={ADDRESS}&key={API_KEY}\"\n",
    "\n",
    "res = requests.get(url)\n",
    "location = res.json()[\"results\"][0][\"geometry\"][\"location\"]\n",
    "lat = location[\"lat\"]\n",
    "lng = location[\"lng\"]\n",
    "\n",
    "url = f\"https://maps.googleapis.com/maps/api/staticmap?center={lat},{lng}&zoom=16&size=400x400&markers=color:red%7C{lat},{lng}&key={API_KEY}\"\n",
    "\n",
    "res = requests.get(url)\n",
    "\n",
    "with open(\"../data/map/skytree.png\", \"wb\") as f:\n",
    "    f.write(res.content)"
   ]
  },
  {
   "cell_type": "markdown",
   "metadata": {},
   "source": [
    "![](./skytree.png)"
   ]
  },
  {
   "cell_type": "markdown",
   "metadata": {},
   "source": []
  }
 ],
 "metadata": {
  "kernelspec": {
   "display_name": "Python 3",
   "language": "python",
   "name": "python3"
  },
  "language_info": {
   "codemirror_mode": {
    "name": "ipython",
    "version": 3
   },
   "file_extension": ".py",
   "mimetype": "text/x-python",
   "name": "python",
   "nbconvert_exporter": "python",
   "pygments_lexer": "ipython3",
   "version": "3.12.4"
  }
 },
 "nbformat": 4,
 "nbformat_minor": 2
}
